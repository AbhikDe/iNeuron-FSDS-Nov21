{
 "cells": [
  {
   "cell_type": "markdown",
   "id": "4907eba5",
   "metadata": {},
   "source": [
    "##### 1. In the below elements which of them are values or an expression? eg:- values can be integer or string and expressions will be mathematical operators.\n",
    "\n",
    "###### Answer:\n",
    "\n",
    "\\*&emsp;Multiplication Operator <br>\n",
    "'hello'&emsp;String <br>\n",
    "-87.8&emsp;Float <br>\n",
    "\\-&emsp;Subtract Operator <br>\n",
    "/&emsp;Division Operator <br>\n",
    "\\+&emsp;Addition operator <br>\n",
    "6&emsp;Integer"
   ]
  },
  {
   "cell_type": "markdown",
   "id": "181264bf",
   "metadata": {},
   "source": [
    "##### 2. What is the difference between string and variable?\n",
    "\n",
    "###### Answer:\n",
    "&emsp;A Variable is a store of information, and a String is a type of information which would store in a Variable. "
   ]
  },
  {
   "cell_type": "markdown",
   "id": "ec25f651",
   "metadata": {},
   "source": [
    "##### 3. Describe three different data types.\n",
    "\n",
    "###### Answer:\n",
    "\n",
    "There different data types can be the following:<br><br>\n",
    "(1) Integer -> Holds numerical Value <br>\n",
    "(2) String -> Holdes string data <br>\n",
    "(3) Float -> Hold decimal point value"
   ]
  },
  {
   "cell_type": "markdown",
   "id": "ea5ec643",
   "metadata": {},
   "source": [
    "##### 4. What is an expression made up of? What do all expressions do?\n",
    "\n",
    "###### Answer: \n",
    "&emsp;An expression is a combination of operators and operands that is interpreted to produce some other value.\n"
   ]
  },
  {
   "cell_type": "markdown",
   "id": "419476d7",
   "metadata": {},
   "source": [
    "##### 5. This assignment statements, like spam = 10. What is the difference between an expression and a statement?\n",
    "\n",
    "###### Answer:\n",
    "&emsp;Statement is intended to perform any task, lke we have print() statement which is intended to do print task, where as an expression is intended to perform an operation which is combination of operator, variable etc."
   ]
  },
  {
   "cell_type": "markdown",
   "id": "33b55121",
   "metadata": {},
   "source": [
    "##### 6. After running the following code, what does the variable bacon contain?<br><br>bacon = 22 <br>bacon + 1 <br>\n",
    "###### Answer:\n",
    "&emsp;Even after doing bacon + 1 the value of bacon is going to be same as 22 because we are updating the value by +1 but not storing again in bacon, but if want to update the value of bacon we can do something like this bacon=bacon+1 "
   ]
  },
  {
   "cell_type": "markdown",
   "id": "fe0e8f5b",
   "metadata": {},
   "source": [
    "##### 7. What should the values of the following two terms be?<br><br>&#39;spam&#39; + &#39;spamspam&#39;<br>&#39;spam&#39; * 3\n",
    "###### Answer:\n",
    "&emsp;The value of the following are as follows:<br>\n",
    "(i) &#39;spam&#39; + &#39;spamspam&#39; = 'spamspamspam' <br>\n",
    "(ii)&#39;spam&#39; * 3 = 'spamspamspam'"
   ]
  },
  {
   "cell_type": "markdown",
   "id": "c12cf811",
   "metadata": {},
   "source": [
    "##### 8. Why is eggs a valid variable name while 100 is invalid?\n",
    "###### Answer:\n",
    "&emsp;As per python varibale name cannot be start with number, so eggs a valid variable name while 100 is invalid."
   ]
  },
  {
   "cell_type": "markdown",
   "id": "203b0978",
   "metadata": {},
   "source": [
    "##### 9. What three functions can be used to get the integer, floating-point number, or string version of a value?\n",
    "###### Answer:\n",
    "&emsp;The following function can be used<br>(i)&emsp;int() for integer<br>(ii)&emsp;float() for floating-point number<br>(iii)&emsp;str() for string"
   ]
  },
  {
   "cell_type": "markdown",
   "id": "56cc05fb",
   "metadata": {},
   "source": [
    "##### 10. Why does this expression cause an error? How can you fix it?<br><br>&#39;I have eaten &#39; + 99 + &#39; burritos.&#39;\n",
    "###### Answer:\n",
    "&emsp;The ('I have eaten ' + 99 + ' burritos.') expression is trying to perform concatination operation but 99 present in the expression is integer value we can remove the error by converting the integer into string, like the below statement<br>\n",
    "<h6><center>'I have eaten ' + str(99) + ' burritos.'</center>"
   ]
  }
 ],
 "metadata": {
  "kernelspec": {
   "display_name": "Python 3 (ipykernel)",
   "language": "python",
   "name": "python3"
  },
  "language_info": {
   "codemirror_mode": {
    "name": "ipython",
    "version": 3
   },
   "file_extension": ".py",
   "mimetype": "text/x-python",
   "name": "python",
   "nbconvert_exporter": "python",
   "pygments_lexer": "ipython3",
   "version": "3.8.13"
  }
 },
 "nbformat": 4,
 "nbformat_minor": 5
}
